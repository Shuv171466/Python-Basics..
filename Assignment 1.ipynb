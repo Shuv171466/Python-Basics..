{
 "cells": [
  {
   "cell_type": "markdown",
   "id": "1d35d5bb",
   "metadata": {},
   "source": [
    "# Answer no 01\n",
    "\n",
    "values=\"hello\",-87.8,6\n",
    "expression=*,-,/,+"
   ]
  },
  {
   "cell_type": "markdown",
   "id": "9e297f2f",
   "metadata": {},
   "source": [
    "# Answer no 02\n",
    "\n",
    "string= it's represents text.\n",
    "variable = it's store all kind of data types."
   ]
  },
  {
   "cell_type": "markdown",
   "id": "8a948875",
   "metadata": {},
   "source": [
    "# Answer no 03\n",
    "\n",
    "there are many types of data types.such as-integers,floating points,strings,lists,dictionaries,tuples,sets,booleans.\n",
    "integers-an integers is a whole number(not fractional) that can be positive,negative or even zero. Exp:3,-6,0.\n",
    "strings-it's represent's text.and the text always under double clone.Exp:\"shuvasish\",\"saha\".\n",
    "lists-it's store all types of data types under third bracket.Exp:[\"shuva\",2,True,2.6]"
   ]
  },
  {
   "cell_type": "markdown",
   "id": "7e46ef74",
   "metadata": {},
   "source": [
    "# Answer no 04\n",
    "\n",
    "an expression is a combination of values,variables,operators and calls to functions.\n",
    "expression is evaluated everytime by the interpreter.\n",
    "if i ask python to print an expression,interpreter evaluate the expression and displays it.Exp:print(\"hello world\")"
   ]
  },
  {
   "cell_type": "markdown",
   "id": "81e64ade",
   "metadata": {},
   "source": [
    "# Answer no 05\n",
    "\n",
    "An expressions evaluates a single value but a statement does not ."
   ]
  },
  {
   "cell_type": "markdown",
   "id": "487ac34e",
   "metadata": {},
   "source": [
    "## Answer no 06\n",
    "\n",
    "23"
   ]
  },
  {
   "cell_type": "markdown",
   "id": "4bfcdfaa",
   "metadata": {},
   "source": [
    "## Answer no 07\n",
    "'spamspamspam'\n",
    "'spamspamspam'"
   ]
  },
  {
   "cell_type": "markdown",
   "id": "f018a214",
   "metadata": {},
   "source": [
    "## Answer no 08\n",
    "Because of variable name can't start with Number."
   ]
  },
  {
   "cell_type": "markdown",
   "id": "ca6bb15e",
   "metadata": {},
   "source": [
    "## Answer no 09\n",
    "int(),float(),str()"
   ]
  },
  {
   "cell_type": "markdown",
   "id": "739f6d3e",
   "metadata": {},
   "source": [
    "## Answer no 10\n",
    "because of string and integer can't be concatenate.\n",
    "\"I have eaten\" + str(99) + \"burritos\" in this way we can concatenate."
   ]
  },
  {
   "cell_type": "code",
   "execution_count": null,
   "id": "b4ec34b4",
   "metadata": {},
   "outputs": [],
   "source": []
  }
 ],
 "metadata": {
  "kernelspec": {
   "display_name": "Python 3 (ipykernel)",
   "language": "python",
   "name": "python3"
  },
  "language_info": {
   "codemirror_mode": {
    "name": "ipython",
    "version": 3
   },
   "file_extension": ".py",
   "mimetype": "text/x-python",
   "name": "python",
   "nbconvert_exporter": "python",
   "pygments_lexer": "ipython3",
   "version": "3.9.13"
  }
 },
 "nbformat": 4,
 "nbformat_minor": 5
}
