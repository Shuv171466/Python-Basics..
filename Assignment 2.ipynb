{
 "cells": [
  {
   "cell_type": "raw",
   "id": "1265a718",
   "metadata": {},
   "source": [
    "## Answer no 1\n",
    "\n",
    "True , False\n",
    "\n",
    "a=bool(0)\n",
    "b=bool(1)\n",
    "\n",
    "print(a,b)"
   ]
  },
  {
   "cell_type": "raw",
   "id": "be7f021c",
   "metadata": {},
   "source": [
    "## Answer no 2\n",
    "\n",
    "and,or and not"
   ]
  },
  {
   "cell_type": "raw",
   "id": "4b71dca3",
   "metadata": {},
   "source": [
    "## Answer no 3\n",
    "\n",
    "AND will provide search results containing both or all of your keywords.\n",
    "OR will provide search results containing at least one of your keywords.\n",
    "NOT will provide search results containing the first of your keywords but not the second"
   ]
  },
  {
   "cell_type": "raw",
   "id": "b76b45a5",
   "metadata": {},
   "source": [
    "## Answer no 4\n",
    "\n",
    "False,False,True,False,False,True"
   ]
  },
  {
   "cell_type": "raw",
   "id": "58d6ac85",
   "metadata": {},
   "source": [
    "## Answer no 5\n",
    "\n",
    "less than(<),less than or equal to(<=),greater than(>),greater than or equal to(>=),equal to(==),not equal to(!=)"
   ]
  },
  {
   "cell_type": "raw",
   "id": "0655633c",
   "metadata": {},
   "source": [
    "## Answer no 6\n",
    "\n",
    "The '=' is the so-called assignment operator and is used to assign the result of the expression on the right side of the operator to the variable on the left side.\n",
    "The '==' is the so-called equality comparison operator and is used to check whether the two expressions on both sides are equal or not. It returns true of they are equal, and false if they are not."
   ]
  },
  {
   "cell_type": "raw",
   "id": "b728d826",
   "metadata": {},
   "source": [
    "## Answer no 7\n",
    "\n",
    "First block.\n",
    "spam = 0\n",
    "if spam == 10:\n",
    "print(\"eggs\")\n",
    "if spam>5:\n",
    "print(\"bacon\")\n",
    "else:\n",
    "print(\"ham\")\n",
    "2nd block.\n",
    "print(\"spam\")\n",
    "3rd block.\n",
    "print(\"spam\")"
   ]
  },
  {
   "cell_type": "raw",
   "id": "8450243f",
   "metadata": {},
   "source": [
    "## Answer no 8\n",
    "\n",
    "spam=0\n",
    "if spam==1:\n",
    "print(\"Hello\")\n",
    "if spam==2:\n",
    "print(\"Howdy\")\n",
    "else:\n",
    "print(\"Greetings!\")"
   ]
  },
  {
   "cell_type": "raw",
   "id": "0e410235",
   "metadata": {},
   "source": [
    "## Answer no 9\n",
    "\n",
    "Using the break and exit statements."
   ]
  },
  {
   "cell_type": "raw",
   "id": "26eaaa05",
   "metadata": {},
   "source": [
    "## Answer no 10\n",
    "\n",
    "Break statement stops the entire process of the loop.\n",
    "Continue statement only stops the current iteration of the loop"
   ]
  },
  {
   "cell_type": "raw",
   "id": "d529cdd6",
   "metadata": {},
   "source": [
    "## Answer no 11\n",
    "\n",
    "There is no difference."
   ]
  },
  {
   "cell_type": "raw",
   "id": "b170ca81",
   "metadata": {},
   "source": [
    "## Answer no 12\n",
    "\n",
    "for i in range(1, 11):\n",
    "    print(i)\n",
    "    \n",
    "number =1\n",
    "while number<=10:\n",
    "    print(number)\n",
    "    number+=1"
   ]
  },
  {
   "cell_type": "raw",
   "id": "9e7faedf",
   "metadata": {},
   "source": [
    "## Answer no 13\n",
    "\n",
    "def bacon(spam):\n",
    "    if spam==2:\n",
    "        print(\"hey\")\n",
    "bacon(2)"
   ]
  }
 ],
 "metadata": {
  "kernelspec": {
   "display_name": "Python 3 (ipykernel)",
   "language": "python",
   "name": "python3"
  },
  "language_info": {
   "codemirror_mode": {
    "name": "ipython",
    "version": 3
   },
   "file_extension": ".py",
   "mimetype": "text/x-python",
   "name": "python",
   "nbconvert_exporter": "python",
   "pygments_lexer": "ipython3",
   "version": "3.9.13"
  }
 },
 "nbformat": 4,
 "nbformat_minor": 5
}
